{
 "cells": [
  {
   "cell_type": "code",
   "execution_count": null,
   "id": "ddc1ff43",
   "metadata": {},
   "outputs": [],
   "source": [
    "p less than 0.05 reject null hypothesis accept the column\n",
    "p greater than 0.05 accept null hypothesis reject the column"
   ]
  },
  {
   "cell_type": "code",
   "execution_count": null,
   "id": "a61db258",
   "metadata": {},
   "outputs": [],
   "source": [
    "1. import libraries\n",
    "2. import data\n",
    "3. find the info of the data\n",
    "4. find the missing values percentage in the data\n",
    "5. drop the columns which have around more than 50% of the data missing\n",
    "6. then seperate the columns into numerical coulmns and categorical coulmns and also seperate year coulmns\n",
    "7. then find the numeric categorical (CATEGORIES SHOULD BE 5 OR 6)and numeric continous columns from numerical columns\n",
    "8. In categorical columns impute the missing values with mode \n",
    "9. and for numerical column impute the missing values with median\n",
    "10. then check weather any missing values are present using info()\n",
    "11. finding the outliers in the numerical columns using boxplot\n",
    "12. if the column has more than 80% of the data as outlier then drop the column \n",
    "13. if not cap the outliers to the max value of the boxplot\n",
    "14. then do the correlation matrix heatmap and set the value for -0.3 to 0.3 for weak correlation\n",
    "     and -0.8 to 0.8 for multicorrelation and drop the columns according to target variable\n",
    "15. then do anova for the numeric categorical columns and drop the non significant columns or which have p-value > 0.05\n",
    "16. then perform tukey test for the numeric categorical coulmns whose p-value < 0.05\n",
    "17. after tukey test and merging the data once again perfrom anova on those columns on whom you have done tukey test\n",
    "    and drop the columns according to it.\n",
    "18.now do the anova for categorical columns and drop the columns accordingly\n",
    "19.perform tukey test for the remaining columns from categorical columns\n",
    "20. then once again run anova and drop the columns accordingly\n",
    "21. plotting the graph of each column which were not dropped\n",
    "\n",
    "22. Model Building \n",
    "23. split the Data into two parts as train and test \n",
    "24. and then getting the OLS REGRESSION RESULTS and getting the summary of it \n",
    "25. and then droping the columns according to it in the data.\n",
    "26. NOW its TIME for VIF(variance_inflation_factor)\n",
    "27. droping the coulmns which have vif more than 10\n",
    "28. once again splitting the data into train test\n",
    "29. pred_1=model_1.predict(x_test) #Prediction on test data\n",
    "30. resd_1=y_test_series-pred_1 checking the residuals\n",
    "31. se_1=resd_1.pow(2) \n",
    "32. sse_1=se_1.sum()\n",
    "33. msse_1=sse_1/len(se_1)\n",
    "34. import math\n",
    "    math.sqrt(msse_1)\n",
    "35. plot a graph for actual data and pediction\n",
    "    obsno=np.arange(0,292,1)\n",
    "    fig,ax=plt.subplots()\n",
    "    ax.plot(obsno,y_test_series,'o',label='data')\n",
    "    ax.plot(obsno,pred_1,'r',label='predicted')\n",
    "    ax.legend(loc='best')"
   ]
  }
 ],
 "metadata": {
  "kernelspec": {
   "display_name": "Python 3 (ipykernel)",
   "language": "python",
   "name": "python3"
  },
  "language_info": {
   "codemirror_mode": {
    "name": "ipython",
    "version": 3
   },
   "file_extension": ".py",
   "mimetype": "text/x-python",
   "name": "python",
   "nbconvert_exporter": "python",
   "pygments_lexer": "ipython3",
   "version": "3.10.6"
  }
 },
 "nbformat": 4,
 "nbformat_minor": 5
}
